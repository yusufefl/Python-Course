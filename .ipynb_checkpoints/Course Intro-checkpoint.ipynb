{
 "cells": [
  {
   "cell_type": "code",
   "execution_count": 1,
   "id": "35bef445",
   "metadata": {},
   "outputs": [
    {
     "name": "stdout",
     "output_type": "stream",
     "text": [
      "Hello and wellcome to our course\n"
     ]
    }
   ],
   "source": [
    "print(\"Hello and wellcome to our course\")"
   ]
  },
  {
   "cell_type": "markdown",
   "id": "21539d4e",
   "metadata": {},
   "source": [
    "Here is anouther checkpoint.\n"
   ]
  },
  {
   "cell_type": "markdown",
   "id": "05d39107",
   "metadata": {},
   "source": [
    "#Here is a heading\n"
   ]
  },
  {
   "cell_type": "markdown",
   "id": "de8df446",
   "metadata": {},
   "source": [
    "Here is a link : https://www.nerdfonts.com/font-downloads"
   ]
  },
  {
   "cell_type": "markdown",
   "id": "3806953d",
   "metadata": {},
   "source": [
    "Take an input and display it.\n"
   ]
  },
  {
   "cell_type": "code",
   "execution_count": 1,
   "id": "a443dac6",
   "metadata": {},
   "outputs": [
    {
     "name": "stdout",
     "output_type": "stream",
     "text": [
      "Bir cümle giriniz: Merhaba Dünya\n",
      "Merhaba Dünya\n"
     ]
    }
   ],
   "source": [
    "inp = input(\"Bir cümle giriniz: \")\n",
    "print(inp)"
   ]
  },
  {
   "cell_type": "code",
   "execution_count": null,
   "id": "feab1029",
   "metadata": {},
   "outputs": [],
   "source": []
  }
 ],
 "metadata": {
  "kernelspec": {
   "display_name": "Python 3",
   "language": "python",
   "name": "python3"
  },
  "language_info": {
   "codemirror_mode": {
    "name": "ipython",
    "version": 3
   },
   "file_extension": ".py",
   "mimetype": "text/x-python",
   "name": "python",
   "nbconvert_exporter": "python",
   "pygments_lexer": "ipython3",
   "version": "3.9.4"
  }
 },
 "nbformat": 4,
 "nbformat_minor": 5
}
